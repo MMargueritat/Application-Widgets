{
 "cells": [
  {
   "cell_type": "markdown",
   "metadata": {},
   "source": [
    "# DicoCo\n",
    "\n",
    "*Marie Margueritat*"
   ]
  },
  {
   "cell_type": "markdown",
   "metadata": {},
   "source": [
    "# Librairie"
   ]
  },
  {
   "cell_type": "code",
   "execution_count": 1,
   "metadata": {},
   "outputs": [],
   "source": [
    "# import necessaire à la création des widgets\n",
    "import ipywidgets as widgets\n",
    "import pandas\n",
    "import numpy\n",
    "\n",
    "from bs4 import BeautifulSoup\n",
    "from IPython import display as audioD\n",
    "import IPython.display as ipd\n",
    "from requests_html import HTMLSession\n",
    "import math\n",
    "from IPython.display import display, clear_output, HTML, Markdown \n",
    "from pylab import specgram, show\n",
    "from moviepy.editor import AudioFileClip\n",
    "\n",
    "pandas.options.mode.chained_assignment = None \n",
    "session = HTMLSession()"
   ]
  },
  {
   "cell_type": "markdown",
   "metadata": {},
   "source": [
    "# Les données"
   ]
  },
  {
   "cell_type": "markdown",
   "metadata": {},
   "source": [
    "#### On récupère le DF"
   ]
  },
  {
   "cell_type": "code",
   "execution_count": 2,
   "metadata": {},
   "outputs": [],
   "source": [
    "dfDicoBuch = pandas.read_csv('./Data/dfDicoBuch.csv')\n",
    "# On conserve les données qui nous sont utiles\n",
    "dfDicoBuch = dfDicoBuch[[\"motVedette\",\"nbSyll\",\"pron\",\"pronSampa\",\"ipa\"]]\n",
    "dfDicoBuch = dfDicoBuch.replace(numpy.nan, '', regex=True)"
   ]
  },
  {
   "cell_type": "markdown",
   "metadata": {},
   "source": [
    "#### On scrappe toute la table en créant 2 colonnes (une lienUK et une lien US)"
   ]
  },
  {
   "cell_type": "code",
   "execution_count": 3,
   "metadata": {},
   "outputs": [],
   "source": [
    "def scrapping(dfEtudie):\n",
    "    \n",
    "    url = \"https://www.ldoceonline.com/dictionary/\"\n",
    "    listeLienUK = []\n",
    "    listeLienUS = []\n",
    "    \n",
    "    for mot in dfEtudie[\"motVedette\"] :\n",
    "\n",
    "        # On créé le lien URL\n",
    "        urlComplet = url + mot\n",
    "        response = session.get(urlComplet)\n",
    "        html_doc = response.content\n",
    "\n",
    "        # Parsing\n",
    "        soup = BeautifulSoup(response.text,'html.parser')\n",
    "        souplettesBody = soup.find('body')\n",
    "        finded = souplettesBody.findAll('div',{\"class\":\"dictionary\"})\n",
    "\n",
    "        # Lien UK\n",
    "        for v in finded:\n",
    "            baliseAnglais = v.findAll('span',{\"class\":\"speaker brefile fas fa-volume-up hideOnAmp\"})\n",
    "        for f in baliseAnglais:\n",
    "            liensAnglais = f['data-src-mp3']\n",
    "        lienAnglais = liensAnglais.replace(liensAnglais[-15:],\"\")\n",
    "        listeLienUK.append(lienAnglais)\n",
    "\n",
    "        # Lien US \n",
    "        for v in finded:\n",
    "            baliseUS = v.findAll('span',{\"class\":\"speaker amefile fas fa-volume-up hideOnAmp\"})\n",
    "        for f in baliseUS:\n",
    "            liensUS = f['data-src-mp3']\n",
    "        lienUS = liensUS.replace(liensUS[-15:],\"\")\n",
    "        listeLienUS.append(lienUS)\n",
    "        \n",
    "        \n",
    "    dfEtudie[\"lienUK\"] = pandas.Series(listeLienUK).values\n",
    "    dfEtudie[\"lienUS\"] = pandas.Series(listeLienUS).values\n",
    "    \n",
    "    \n",
    "    return dfEtudie\n"
   ]
  },
  {
   "cell_type": "markdown",
   "metadata": {},
   "source": [
    "# Les widgets"
   ]
  },
  {
   "cell_type": "markdown",
   "metadata": {},
   "source": [
    "### Ligne 1"
   ]
  },
  {
   "cell_type": "code",
   "execution_count": 4,
   "metadata": {},
   "outputs": [],
   "source": [
    "filtreHWD = widgets.Text(value=\"\",description='filtre hwd',layout={'width': '200px'} )"
   ]
  },
  {
   "cell_type": "code",
   "execution_count": 5,
   "metadata": {},
   "outputs": [],
   "source": [
    "filtreIPA = widgets.Text(value=\"\",description='filtre ipa',layout={'width': '200px'} )"
   ]
  },
  {
   "cell_type": "code",
   "execution_count": 6,
   "metadata": {},
   "outputs": [],
   "source": [
    "occMax = widgets.IntSlider(min=0,max=10,step=1,description='Occ.Max:',value = 5)"
   ]
  },
  {
   "cell_type": "code",
   "execution_count": 7,
   "metadata": {},
   "outputs": [],
   "source": [
    "bouton = widgets.Button(description='Démarrer', icon = \"check\")"
   ]
  },
  {
   "cell_type": "markdown",
   "metadata": {},
   "source": [
    "### Ligne 2"
   ]
  },
  {
   "cell_type": "markdown",
   "metadata": {},
   "source": [
    "Les variables"
   ]
  },
  {
   "cell_type": "code",
   "execution_count": 8,
   "metadata": {},
   "outputs": [],
   "source": [
    "# Widgets\n",
    "dataFrame = widgets.Output()\n",
    "audio = widgets.Output()"
   ]
  },
  {
   "cell_type": "code",
   "execution_count": 9,
   "metadata": {},
   "outputs": [],
   "source": [
    "# Création des spectrometres \n",
    "def creaSpectro(lienUK, lienUS):\n",
    "    # création des spectromètres\n",
    "    audio = AudioFileClip(lienUK) \n",
    "    sound_array = audio.to_soundarray()\n",
    "    specgram(sound_array[:,0])\n",
    "    show()\n",
    "    audio = AudioFileClip(lienUS) \n",
    "    sound_array = audio.to_soundarray()\n",
    "    specgram(sound_array[:,0])\n",
    "    show()"
   ]
  },
  {
   "cell_type": "code",
   "execution_count": 10,
   "metadata": {},
   "outputs": [],
   "source": [
    "# Création des audio\n",
    "def creaAudio(dfEtudie):\n",
    "    clear_output()\n",
    "    listeWid = widgets.Output()\n",
    "    lU = widgets.Output()\n",
    "    sU = widgets.Output()\n",
    "\n",
    "    for numLigne in range(len(dfEtudie)):\n",
    "        \n",
    "        \n",
    "        labelUK = widgets.Label(\"Brit\")\n",
    "        itemsUK = audioD.Audio(url = dfEtudie[\"lienUK\"][numLigne])\n",
    "        spectroUK = dfEtudie[\"lienUK\"][numLigne]\n",
    "    \n",
    "        labelUS = widgets.Label(\"Amer\")\n",
    "        itemsUS = audioD.Audio(url = dfEtudie[\"lienUS\"][numLigne])\n",
    "        audioUK = widgets.Output()\n",
    "        audioUK.append_display_data(itemsUK)\n",
    "        audioUS = widgets.Output()\n",
    "        audioUS.append_display_data(itemsUS)\n",
    "        spectroUS = dfEtudie[\"lienUS\"][numLigne]\n",
    "        \n",
    "        lU = widgets.HBox([labelUK,audioUK,labelUS,audioUS])\n",
    "\n",
    "        # Les mots\n",
    "\n",
    "        labelMot = widgets.Label(dfEtudie[\"motVedette\"][numLigne])\n",
    "        labelPron = widgets.Label(str(dfEtudie[\"pron\"][numLigne]))\n",
    "        label = widgets.HBox([labelMot, labelPron])\n",
    "\n",
    "\n",
    "        listeWid.append_display_data(widgets.VBox([label,lU,sU]))\n",
    "        creaSpectro(spectroUK, spectroUS)\n",
    "                        \n",
    "    return listeWid"
   ]
  },
  {
   "cell_type": "code",
   "execution_count": 11,
   "metadata": {},
   "outputs": [],
   "source": [
    "def on_button_clicked(_):\n",
    "    nbLigne = occMax.value\n",
    "    HWD = filtreHWD.value \n",
    "    IPA = filtreIPA.value\n",
    "    dfEtudie = \"\"\n",
    "\n",
    "    with dataFrame:\n",
    "        clear_output()\n",
    "        # Filtre en fontion des variables précédentes \n",
    "        if (HWD != \"\"):\n",
    "            dfEtudie = dfDicoBuch[(dfDicoBuch.motVedette.str.match(HWD))]\n",
    "            if(IPA != \"\"):\n",
    "                dfEtudie = dfEtudie[(dfEtudie.pron.str.match(IPA))]\n",
    "        elif (IPA != \"\"):\n",
    "            dfEtudie = dfDicoBuch[(dfDicoBuch.pron.str.match(IPA))]\n",
    "\n",
    "        if(len(dfEtudie) > nbLigne):\n",
    "            dfEtudie = dfEtudie.sample(n=nbLigne).copy()\n",
    "        dfEtudie = dfEtudie.reset_index()    \n",
    "        # On affiche\n",
    "        display(dfEtudie)\n",
    "        \n",
    "    with audio :\n",
    "        clear_output()\n",
    "        dfEtudie = scrapping(dfEtudie)  \n",
    "        \n",
    "        listeAudio = creaAudio(dfEtudie) \n",
    "        display(listeAudio)\n",
    "        \n",
    "            \n",
    "bouton.on_click(on_button_clicked)"
   ]
  },
  {
   "cell_type": "markdown",
   "metadata": {},
   "source": [
    "## Layout "
   ]
  },
  {
   "cell_type": "code",
   "execution_count": 12,
   "metadata": {},
   "outputs": [],
   "source": [
    "ligne1 = widgets.HBox([filtreHWD, filtreIPA, occMax, bouton])\n",
    "ligne2 = widgets.HBox([dataFrame])\n",
    "ligne3 = widgets.HBox([audio])\n",
    "\n",
    "tout = widgets.VBox([ligne1, ligne2, ligne3])"
   ]
  },
  {
   "cell_type": "code",
   "execution_count": 13,
   "metadata": {
    "scrolled": true
   },
   "outputs": [
    {
     "data": {
      "application/vnd.jupyter.widget-view+json": {
       "model_id": "a40274ea8417424dbc01405ba7b82b88",
       "version_major": 2,
       "version_minor": 0
      },
      "text/plain": [
       "VBox(children=(HBox(children=(Text(value='', description='filtre hwd', layout=Layout(width='200px')), Text(val…"
      ]
     },
     "metadata": {},
     "output_type": "display_data"
    }
   ],
   "source": [
    "tout"
   ]
  },
  {
   "cell_type": "code",
   "execution_count": null,
   "metadata": {},
   "outputs": [],
   "source": []
  },
  {
   "cell_type": "code",
   "execution_count": null,
   "metadata": {},
   "outputs": [],
   "source": [
    "\n",
    "\n"
   ]
  }
 ],
 "metadata": {
  "kernelspec": {
   "display_name": "Python 3",
   "language": "python",
   "name": "python3"
  },
  "language_info": {
   "codemirror_mode": {
    "name": "ipython",
    "version": 3
   },
   "file_extension": ".py",
   "mimetype": "text/x-python",
   "name": "python",
   "nbconvert_exporter": "python",
   "pygments_lexer": "ipython3",
   "version": "3.8.5"
  }
 },
 "nbformat": 4,
 "nbformat_minor": 4
}
